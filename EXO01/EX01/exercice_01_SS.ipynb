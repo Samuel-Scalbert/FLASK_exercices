{
 "cells": [
  {
   "cell_type": "code",
   "execution_count": 96,
   "metadata": {},
   "outputs": [
    {
     "data": {
      "text/plain": [
       "{'nom': 'bob', 'anne_naissance': 1955, 'prenom': 'bib'}"
      ]
     },
     "execution_count": 96,
     "metadata": {},
     "output_type": "execute_result"
    }
   ],
   "source": [
    "import datetime\n",
    "#Ecrire une classe Python Personne() avec plusieurs méthodes et attributs.\n",
    "\n",
    "class Personne():\n",
    "    \n",
    "        \n",
    "    def __init__(self,nom,prenom,anne_naissance:int):\n",
    "        data = {}\n",
    "        self.nom = nom\n",
    "        self.prenom = prenom\n",
    "        self.year_of_birth = anne_naissance     \n",
    "        data[\"nom\"]= self.nom \n",
    "        data[\"anne_naissance\"] = self.year_of_birth\n",
    "        data[\"prenom\"] = self.prenom\n",
    "        self.data = data\n",
    "    \n",
    "    def data(self):\n",
    "        print(self.data)\n",
    "        \n",
    "    def etat_civil(self):\n",
    "        print(self.prenom, self.nom)\n",
    "        \n",
    "    \n",
    "    def anne_naissance(self):\n",
    "        age = datetime.datetime.now().year - self.year_of_birth\n",
    "        print(age)\n",
    "\n",
    "\n",
    "\n",
    "Bob = Personne(\"bob\",\"bib\",1955)\n",
    "\n",
    "Bob.data\n",
    "Bob.etat_civil()\n",
    "Bob.anne_naissance()\n",
    "\n",
    "\n",
    "\n",
    "\n",
    "#Pour chaque appel suivant à la classe, voici les résultats attendus. Développer ce qui est nécessaire afin d'avoir ce résultat:\n",
    "\n",
    "#Personne(data).data: {'annee_naissance': '1966', 'nom': 'Dupont', 'prenom': 'Jean'}\n",
    "#Personne(data).etat_civil() : Jean Dupont\n",
    "#Personne(data).anne_naissance() : 56"
   ]
  },
  {
   "cell_type": "code",
   "execution_count": 109,
   "metadata": {},
   "outputs": [
    {
     "data": {
      "text/plain": [
       "['exercice_01_SS.ipynb']"
      ]
     },
     "execution_count": 109,
     "metadata": {},
     "output_type": "execute_result"
    }
   ],
   "source": [
    "import os \n",
    "#Afficher le chemin du dossier courant\n",
    "os.getcwd()\n",
    "#Afficher le nom du répertoire courant\n",
    "os.path.basename(\"c:\\\\Users\\\\samsc\\\\OneDrive\\\\Bureau\\\\dossier_app\\\\Exercice\")\n",
    "#Créer un répertoire dans le répertoire courant. Attention, le code écrit doit être exécutable sur tous les types d'OS\n",
    "os.makedirs(\"c:\\\\Users\\\\samsc\\\\OneDrive\\\\Bureau\\\\dossier_app\\\\Exercice\\\\Rep1\")\n",
    "#Supprimer le répertoire créé ci-dessus\n",
    "os.chdir(\"c:\\\\Users\\\\samsc\\\\OneDrive\\\\Bureau\\\\dossier_app\\\\Exercice\")\n",
    "os.rmdir(\"Rep1\")\n",
    "#Lister les fichiers et les dossiers présents dans le répertoire courant\n",
    "os.listdir()"
   ]
  }
 ],
 "metadata": {
  "kernelspec": {
   "display_name": "Python 3",
   "language": "python",
   "name": "python3"
  },
  "language_info": {
   "codemirror_mode": {
    "name": "ipython",
    "version": 3
   },
   "file_extension": ".py",
   "mimetype": "text/x-python",
   "name": "python",
   "nbconvert_exporter": "python",
   "pygments_lexer": "ipython3",
   "version": "3.9.1"
  },
  "orig_nbformat": 4,
  "vscode": {
   "interpreter": {
    "hash": "5f58a1fd958ce1e51990bd978ea9d4e457d8da4ea2ebb4b2649c9467062316de"
   }
  }
 },
 "nbformat": 4,
 "nbformat_minor": 2
}
