{
 "cells": [
  {
   "cell_type": "code",
   "execution_count": 5,
   "metadata": {},
   "outputs": [
    {
     "name": "stdout",
     "output_type": "stream",
     "text": [
      "La fonction grosse_multiplication a pris (en secondes) 0.02458810806274414 4999450005000000000000000000000000\n"
     ]
    }
   ],
   "source": [
    "import time\n",
    "\n",
    "def grosse_multiplication(multiplicateur):\n",
    "    multiplicande = 1000000000000000*9999\n",
    "    resultat = 0\n",
    "    for i in range(1,multiplicateur):\n",
    "        resultat += (multiplicande * multiplicateur *i)\n",
    "    return  resultat\n",
    "\n",
    "start = time.time() \n",
    "result = grosse_multiplication(100000)\n",
    "end = time.time() \n",
    "print(f\"La fonction grosse_multiplication a pris (en secondes) {end-start} {result}\") "
   ]
  }
 ],
 "metadata": {
  "kernelspec": {
   "display_name": "Python 3",
   "language": "python",
   "name": "python3"
  },
  "language_info": {
   "codemirror_mode": {
    "name": "ipython",
    "version": 3
   },
   "file_extension": ".py",
   "mimetype": "text/x-python",
   "name": "python",
   "nbconvert_exporter": "python",
   "pygments_lexer": "ipython3",
   "version": "3.10.10"
  },
  "orig_nbformat": 4,
  "vscode": {
   "interpreter": {
    "hash": "c59af9261b624e332de6bd3da01cf174f757b5c645fe4791478215dc0e304c87"
   }
  }
 },
 "nbformat": 4,
 "nbformat_minor": 2
}
